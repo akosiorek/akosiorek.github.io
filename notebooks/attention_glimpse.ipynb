{
 "cells": [
  {
   "cell_type": "code",
   "execution_count": 1,
   "metadata": {
    "collapsed": true
   },
   "outputs": [],
   "source": [
    "import tensorflow as tf\n",
    "import sonnet as snt\n",
    "import numpy as np\n",
    "import matplotlib.pyplot as plt\n",
    "\n",
    "% matplotlib inline"
   ]
  },
  {
   "cell_type": "code",
   "execution_count": 2,
   "metadata": {},
   "outputs": [],
   "source": [
    "img_size = 10, 10\n",
    "glimpse_size = 5, 5\n",
    "\n",
    "x = abs(np.random.randn(1, *img_size)) * .3\n",
    "x[0, 3:6, 3:6] = 1\n",
    "\n",
    "# Make a crop\n",
    "crop = x[0, 2:7, 2:7]"
   ]
  },
  {
   "cell_type": "code",
   "execution_count": 3,
   "metadata": {
    "collapsed": true
   },
   "outputs": [],
   "source": [
    "def gaussian_mask(u, s, d, R, C):\n",
    "    \"\"\"\n",
    "    :param u: tf.Tensor, centre of the first Gaussian.\n",
    "    :param s: tf.Tensor, standard deviation of Gaussians.\n",
    "    :param d: tf.Tensor, shift between Gaussian centres.\n",
    "    :param R: int, number of rows in the mask, there is one Gaussian per row.\n",
    "    :param C: int, number of columns in the mask.\n",
    "    \"\"\"\n",
    "    # indices to create centres\n",
    "    R = tf.to_float(tf.reshape(tf.range(R), (1, 1, R)))\n",
    "    C = tf.to_float(tf.reshape(tf.range(C), (1, C, 1)))\n",
    "    centres = u[np.newaxis, :, np.newaxis] + R * d\n",
    "    column_centres = C - centres\n",
    "    mask = tf.exp(-.5 * tf.square(column_centres / s))\n",
    "    # we add eps for numerical stability\n",
    "    normalised_mask = mask / (tf.reduce_sum(mask, 1, keep_dims=True) + 1e-8)\n",
    "    return normalised_mask\n",
    "\n",
    "def gaussian_glimpse(img_tensor, transform_params, crop_size):\n",
    "    \"\"\"\n",
    "    :param img_tensor: tf.Tensor of size (batch_size, Height, Width, channels)\n",
    "    :param transform_params: tf.Tensor of size (batch_size, 6), where params are  (mean_y, std_y, d_y, mean_x, std_x, d_x) specified in pixels.\n",
    "    :param crop_size): tuple of 2 ints, size of the resulting crop\n",
    "    \"\"\"\n",
    "    # parse arguments\n",
    "    h, w = crop_size\n",
    "    H, W = img_tensor.shape.as_list()[1:3]\n",
    "    split_ax = transform_params.shape.ndims -1\n",
    "    uy, sy, dy, ux, sx, dx = tf.split(transform_params, 6, split_ax)\n",
    "    # create Gaussian masks, one for each axis\n",
    "    Ay = gaussian_mask(uy, sy, dy, h, H)\n",
    "    Ax = gaussian_mask(ux, sx, dx, w, W)\n",
    "    # extract glimpse\n",
    "    glimpse = tf.matmul(tf.matmul(Ay, img_tensor, adjoint_a=True), Ax)\n",
    "    return glimpse\n",
    "\n",
    "def spatial_transformer(img_tensor, transform_params, crop_size):\n",
    "    \"\"\"\n",
    "    :param img_tensor: tf.Tensor of size (batch_size, Height, Width, channels)\n",
    "    :param transform_params: tf.Tensor of size (batch_size, 4), where params are  (scale_y, shift_y, scale_x, shift_x)\n",
    "    :param crop_size): tuple of 2 ints, size of the resulting crop\n",
    "    \"\"\"\n",
    "    constraints = snt.AffineWarpConstraints.no_shear_2d()\n",
    "    img_size = img_tensor.shape.as_list()[1:]\n",
    "    warper = snt.AffineGridWarper(img_size, crop_size, constraints)\n",
    "    grid_coords = warper(transform_params)\n",
    "    glimpse = snt.resampler(img_tensor[..., tf.newaxis], grid_coords)\n",
    "    return glimpse"
   ]
  },
  {
   "cell_type": "code",
   "execution_count": 4,
   "metadata": {
    "collapsed": true
   },
   "outputs": [],
   "source": [
    "tf.reset_default_graph()\n",
    "\n",
    "# placeholders\n",
    "tx = tf.placeholder(tf.float32, x.shape)\n",
    "tu = tf.placeholder(tf.float32, [1])\n",
    "ts = tf.placeholder(tf.float32, [1])\n",
    "td = tf.placeholder(tf.float32, [1])\n",
    "stn_params = tf.placeholder(tf.float32, [1, 4], 'stn_params')"
   ]
  },
  {
   "cell_type": "code",
   "execution_count": 5,
   "metadata": {},
   "outputs": [],
   "source": [
    "# Gaussian Attention\n",
    "gaussian_att_params = tf.concat([tu, ts, td, tu, ts, td], -1)\n",
    "gaussian_glimpse_expr = gaussian_glimpse(tx, gaussian_att_params, glimpse_size)"
   ]
  },
  {
   "cell_type": "code",
   "execution_count": 6,
   "metadata": {},
   "outputs": [],
   "source": [
    "# Spatial Transformer\n",
    "stn_glimpse_expr = spatial_transformer(tx, stn_params, glimpse_size)"
   ]
  },
  {
   "cell_type": "code",
   "execution_count": 7,
   "metadata": {},
   "outputs": [],
   "source": [
    "sess = tf.Session()\n",
    "\n",
    "# extract a Gaussian glimpse\n",
    "u = 2\n",
    "s = .5\n",
    "d = 1\n",
    "u, s, d = (np.asarray([i]) for i in (u, s, d))\n",
    "gaussian_crop = sess.run(gaussian_glimpse_expr, feed_dict={tx: x, tu: u, ts: s, td: d})\n",
    "\n",
    "# extract STN glimpse\n",
    "transform = [.4, -.1, .4, -.1]\n",
    "transform = np.asarray(transform).reshape((1, 4))\n",
    "stn_crop = sess.run(stn_glimpse_expr, {tx: x, stn_params: transform})"
   ]
  },
  {
   "cell_type": "code",
   "execution_count": 8,
   "metadata": {},
   "outputs": [
    {
     "data": {
      "image/png": "[encoded data removed]",
      "text/plain": [
       "<matplotlib.figure.Figure at 0x124040210>"
      ]
     },
     "metadata": {},
     "output_type": "display_data"
    }
   ],
   "source": [
    "# plots\n",
    "fig, axes = plt.subplots(1, 4, figsize=(12, 3))\n",
    "\n",
    "titles = ['Input Image', 'Crop', 'Gaussian Att', 'STN']\n",
    "imgs = [x, crop, gaussian_crop, stn_crop]\n",
    "for ax, title, img in zip(axes, titles, imgs):\n",
    "    ax.imshow(img.squeeze(), cmap='gray', vmin=0., vmax=1.)\n",
    "    ax.set_title(title)\n",
    "    ax.xaxis.set_visible(False)\n",
    "    ax.yaxis.set_visible(False)"
   ]
  },
  {
   "cell_type": "code",
   "execution_count": 9,
   "metadata": {
    "collapsed": true
   },
   "outputs": [],
   "source": [
    "fig.savefig('attention_example.png', dpi=300, bbox_inches='tight')"
   ]
  }
 ],
 "metadata": {
  "anaconda-cloud": {},
  "kernelspec": {
   "display_name": "Python [conda root]",
   "language": "python",
   "name": "conda-root-py"
  },
  "language_info": {
   "codemirror_mode": {
    "name": "ipython",
    "version": 2
   },
   "file_extension": ".py",
   "mimetype": "text/x-python",
   "name": "python",
   "nbconvert_exporter": "python",
   "pygments_lexer": "ipython2",
   "version": "2.7.12"
  }
 },
 "nbformat": 4,
 "nbformat_minor": 1
}
